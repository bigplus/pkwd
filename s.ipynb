{
 "cells": [
  {
   "cell_type": "code",
   "execution_count": 20,
   "metadata": {},
   "outputs": [
    {
     "name": "stdout",
     "output_type": "stream",
     "text": [
      "['行业市盈率']\n",
      "-----------------------------\n",
      "['农林牧渔', '采矿业', '制造业', '水电煤气', '建筑业', '批发零售', '运输仓储', '住宿餐饮', '信息技术', '金融业', '房地产', '商务服务', '科研服务', '公共环保', '居民服务', '教育', '卫生', '文化传播', '综合']\n"
     ]
    }
   ],
   "source": [
    "import xlrd\n",
    "\n",
    "ExcelFile = xlrd.open_workbook('industry-pe-201906.xlsx')\n",
    "\n",
    "print (ExcelFile.sheet_names())\n",
    "print ('-----------------------------')\n",
    "\n",
    "sheet = ExcelFile.sheet_by_index(0)\n",
    "\n",
    "industry_name_rows = sheet.col_values(1)[2:]\n",
    "print (industry_name_rows)\n",
    "\n",
    "shen_main_industry_num_rows = sheet.col_values(2)[2:]\n",
    "shen_main_industry_pe_rows = sheet.col_values(3)[2:]"
   ]
  },
  {
   "cell_type": "code",
   "execution_count": 24,
   "metadata": {},
   "outputs": [
    {
     "data": {
      "text/plain": [
       "Text(0,0.5,'y')"
      ]
     },
     "execution_count": 24,
     "metadata": {},
     "output_type": "execute_result"
    },
    {
     "data": {
      "image/png": "[encoded data removed]",
      "text/plain": [
       "<matplotlib.figure.Figure at 0x10797ae80>"
      ]
     },
     "metadata": {},
     "output_type": "display_data"
    }
   ],
   "source": [
    "import matplotlib.pyplot as plt\n",
    "\n",
    "labels = industry_name_rows\n",
    "\n",
    "fig = plt.figure()\n",
    "ax = fig.add_subplot(1,1,1)\n",
    "ax.set_title('shen main')\n",
    "ax.set_xlabel('x')\n",
    "ax.set_ylabel('y')"
   ]
  },
  {
   "cell_type": "code",
   "execution_count": null,
   "metadata": {},
   "outputs": [],
   "source": []
  },
  {
   "cell_type": "code",
   "execution_count": null,
   "metadata": {},
   "outputs": [],
   "source": []
  }
 ],
 "metadata": {
  "kernelspec": {
   "display_name": "Python 3",
   "language": "python",
   "name": "python3"
  },
  "language_info": {
   "codemirror_mode": {
    "name": "ipython",
    "version": 3
   },
   "file_extension": ".py",
   "mimetype": "text/x-python",
   "name": "python",
   "nbconvert_exporter": "python",
   "pygments_lexer": "ipython3",
   "version": "3.6.4"
  }
 },
 "nbformat": 4,
 "nbformat_minor": 2
}
